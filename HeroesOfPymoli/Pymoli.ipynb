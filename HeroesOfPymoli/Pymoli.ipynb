{
 "cells": [
  {
   "cell_type": "code",
   "execution_count": 220,
   "metadata": {},
   "outputs": [
    {
     "name": "stdout",
     "output_type": "stream",
     "text": [
      "     Purchase ID             SN  Age  Gender  Item ID  \\\n",
      "0              0        Lisim78   20    Male      108   \n",
      "1              1    Lisovynya38   40    Male      143   \n",
      "2              2     Ithergue48   24    Male       92   \n",
      "3              3  Chamassasya86   24    Male      100   \n",
      "4              4      Iskosia90   23    Male      131   \n",
      "..           ...            ...  ...     ...      ...   \n",
      "775          775     Aethedru70   21  Female       60   \n",
      "776          776         Iral74   21    Male      164   \n",
      "777          777     Yathecal72   20    Male       67   \n",
      "778          778        Sisur91    7    Male       92   \n",
      "779          779      Ennrian78   24    Male       50   \n",
      "\n",
      "                                     Item Name  Price  \n",
      "0    Extraction, Quickblade Of Trembling Hands   3.53  \n",
      "1                            Frenzied Scimitar   1.56  \n",
      "2                                 Final Critic   4.88  \n",
      "3                                  Blindscythe   3.27  \n",
      "4                                         Fury   1.44  \n",
      "..                                         ...    ...  \n",
      "775                                       Wolf   3.54  \n",
      "776                           Exiled Doomblade   1.63  \n",
      "777      Celeste, Incarnation of the Corrupted   3.46  \n",
      "778                               Final Critic   4.19  \n",
      "779                                       Dawn   4.60  \n",
      "\n",
      "[780 rows x 7 columns]\n"
     ]
    }
   ],
   "source": [
    "import pandas as pd\n",
    "import numpy as np\n",
    "\n",
    "filetoload = \"HeroesOfPymoli_Resources_purchase_data.csv\"\n",
    "\n",
    "df = pd.read_csv(filetoload)\n",
    "\n",
    "print(df)"
   ]
  },
  {
   "cell_type": "code",
   "execution_count": 221,
   "metadata": {},
   "outputs": [
    {
     "data": {
      "text/html": [
       "<div>\n",
       "<style scoped>\n",
       "    .dataframe tbody tr th:only-of-type {\n",
       "        vertical-align: middle;\n",
       "    }\n",
       "\n",
       "    .dataframe tbody tr th {\n",
       "        vertical-align: top;\n",
       "    }\n",
       "\n",
       "    .dataframe thead th {\n",
       "        text-align: right;\n",
       "    }\n",
       "</style>\n",
       "<table border=\"1\" class=\"dataframe\">\n",
       "  <thead>\n",
       "    <tr style=\"text-align: right;\">\n",
       "      <th></th>\n",
       "      <th>Total Players</th>\n",
       "    </tr>\n",
       "  </thead>\n",
       "  <tbody>\n",
       "    <tr>\n",
       "      <th>0</th>\n",
       "      <td>576</td>\n",
       "    </tr>\n",
       "  </tbody>\n",
       "</table>\n",
       "</div>"
      ],
      "text/plain": [
       "   Total Players\n",
       "0            576"
      ]
     },
     "execution_count": 221,
     "metadata": {},
     "output_type": "execute_result"
    }
   ],
   "source": [
    "#Display the total number of players\n",
    "\n",
    "total_players = df['SN'].nunique()\n",
    "\n",
    "total_numbers = [{\"Total Players\": total_players}]\n",
    "total_numbers = pd.DataFrame(total_numbers)\n",
    "total_numbers\n",
    " "
   ]
  },
  {
   "cell_type": "code",
   "execution_count": 222,
   "metadata": {},
   "outputs": [
    {
     "data": {
      "text/html": [
       "<style  type=\"text/css\" >\n",
       "</style><table id=\"T_17c9e14e_f8a8_11ea_a25c_34f39a2725da\" ><thead>    <tr>        <th class=\"blank level0\" ></th>        <th class=\"col_heading level0 col0\" >Number of Unique items</th>        <th class=\"col_heading level0 col1\" >Average Price</th>        <th class=\"col_heading level0 col2\" >Number of Purchases</th>        <th class=\"col_heading level0 col3\" >Total Revenue</th>    </tr></thead><tbody>\n",
       "                <tr>\n",
       "                        <th id=\"T_17c9e14e_f8a8_11ea_a25c_34f39a2725dalevel0_row0\" class=\"row_heading level0 row0\" >0</th>\n",
       "                        <td id=\"T_17c9e14e_f8a8_11ea_a25c_34f39a2725darow0_col0\" class=\"data row0 col0\" >179</td>\n",
       "                        <td id=\"T_17c9e14e_f8a8_11ea_a25c_34f39a2725darow0_col1\" class=\"data row0 col1\" >$3.05</td>\n",
       "                        <td id=\"T_17c9e14e_f8a8_11ea_a25c_34f39a2725darow0_col2\" class=\"data row0 col2\" >780</td>\n",
       "                        <td id=\"T_17c9e14e_f8a8_11ea_a25c_34f39a2725darow0_col3\" class=\"data row0 col3\" >$2,379.77</td>\n",
       "            </tr>\n",
       "    </tbody></table>"
      ],
      "text/plain": [
       "<pandas.io.formats.style.Styler at 0x20a16f46e80>"
      ]
     },
     "execution_count": 222,
     "metadata": {},
     "output_type": "execute_result"
    }
   ],
   "source": [
    "#Run basic calculations to obtain number of unique items, average price, etc.\n",
    "items = df['Item ID'].nunique()\n",
    "\n",
    "average = df[\"Price\"].mean()\n",
    "#average = df[average].map('${:,.2f}'.format)\n",
    "\n",
    "purchase = df['Purchase ID'].count()\n",
    "\n",
    "revenue = df['Price'].sum()\n",
    " \n",
    "\n",
    "#Create a summary data frame to hold the results\n",
    "summary_data = [{\"Number of Unique items\": items, \"Average Price\": average, \"Number of Purchases\": purchase, \"Total Revenue\": revenue}]\n",
    "summary_data = pd.DataFrame(summary_data)\n",
    "summary_data\n",
    "\n",
    "summary_data.style.format({\"Average Price\": \"${:,.2f}\",\"Total Revenue\": \"${:,.2f}\"})"
   ]
  },
  {
   "cell_type": "code",
   "execution_count": 223,
   "metadata": {},
   "outputs": [
    {
     "data": {
      "text/html": [
       "<style  type=\"text/css\" >\n",
       "</style><table id=\"T_1a6d0573_f8a8_11ea_9cfc_34f39a2725da\" ><thead>    <tr>        <th class=\"blank level0\" ></th>        <th class=\"col_heading level0 col0\" >Total Count</th>        <th class=\"col_heading level0 col1\" >Percentage of Players</th>    </tr></thead><tbody>\n",
       "                <tr>\n",
       "                        <th id=\"T_1a6d0573_f8a8_11ea_9cfc_34f39a2725dalevel0_row0\" class=\"row_heading level0 row0\" >Female</th>\n",
       "                        <td id=\"T_1a6d0573_f8a8_11ea_9cfc_34f39a2725darow0_col0\" class=\"data row0 col0\" >81</td>\n",
       "                        <td id=\"T_1a6d0573_f8a8_11ea_9cfc_34f39a2725darow0_col1\" class=\"data row0 col1\" >14.49%</td>\n",
       "            </tr>\n",
       "            <tr>\n",
       "                        <th id=\"T_1a6d0573_f8a8_11ea_9cfc_34f39a2725dalevel0_row1\" class=\"row_heading level0 row1\" >Male</th>\n",
       "                        <td id=\"T_1a6d0573_f8a8_11ea_9cfc_34f39a2725darow1_col0\" class=\"data row1 col0\" >484</td>\n",
       "                        <td id=\"T_1a6d0573_f8a8_11ea_9cfc_34f39a2725darow1_col1\" class=\"data row1 col1\" >83.59%</td>\n",
       "            </tr>\n",
       "            <tr>\n",
       "                        <th id=\"T_1a6d0573_f8a8_11ea_9cfc_34f39a2725dalevel0_row2\" class=\"row_heading level0 row2\" >Other / Non-Disclosed</th>\n",
       "                        <td id=\"T_1a6d0573_f8a8_11ea_9cfc_34f39a2725darow2_col0\" class=\"data row2 col0\" >11</td>\n",
       "                        <td id=\"T_1a6d0573_f8a8_11ea_9cfc_34f39a2725darow2_col1\" class=\"data row2 col1\" >1.92%</td>\n",
       "            </tr>\n",
       "    </tbody></table>"
      ],
      "text/plain": [
       "<pandas.io.formats.style.Styler at 0x20a154080a0>"
      ]
     },
     "execution_count": 223,
     "metadata": {},
     "output_type": "execute_result"
    }
   ],
   "source": [
    "#Count of Male, Female, Other Players\n",
    "count = df.groupby(\"Gender\")[\"SN\"].nunique()\n",
    "# print(count)\n",
    "\n",
    "#Percentage of Male, Female, Other Players\n",
    "percentage = df[\"Gender\"].value_counts(normalize=True)*100\n",
    "# print(percentage)\n",
    "\n",
    "#Create a summary data frame to hold the results\n",
    "summary_data1 = {'Total Count': count,'Percentage of Players': percentage}\n",
    "summary_data1 = pd.DataFrame(summary_data1)\n",
    "summary_data1\n",
    "\n",
    "summary_data1.style.format({\"Percentage of Players\": \"{:,.2f}%\"})"
   ]
  },
  {
   "cell_type": "code",
   "execution_count": 250,
   "metadata": {},
   "outputs": [
    {
     "ename": "ValueError",
     "evalue": "array length 1 does not match index length 3",
     "output_type": "error",
     "traceback": [
      "\u001b[1;31m---------------------------------------------------------------------------\u001b[0m",
      "\u001b[1;31mValueError\u001b[0m                                Traceback (most recent call last)",
      "\u001b[1;32m<ipython-input-250-f2cd0d38b8e3>\u001b[0m in \u001b[0;36m<module>\u001b[1;34m\u001b[0m\n\u001b[0;32m      7\u001b[0m \u001b[1;31m#Create a summary data frame to hold the results\u001b[0m\u001b[1;33m\u001b[0m\u001b[1;33m\u001b[0m\u001b[1;33m\u001b[0m\u001b[0m\n\u001b[0;32m      8\u001b[0m \u001b[0msummary_data2\u001b[0m \u001b[1;33m=\u001b[0m \u001b[1;33m{\u001b[0m\u001b[1;34m'Purchase Count'\u001b[0m\u001b[1;33m:\u001b[0m \u001b[0mpcount\u001b[0m\u001b[1;33m,\u001b[0m \u001b[1;34m'Average Purchase Price'\u001b[0m\u001b[1;33m:\u001b[0m \u001b[0mavpprice\u001b[0m\u001b[1;33m,\u001b[0m \u001b[1;34m'Total Purchase Value'\u001b[0m\u001b[1;33m:\u001b[0m \u001b[0mtotalpvalue\u001b[0m\u001b[1;33m,\u001b[0m\u001b[1;34m'Average Total Purchase per Person'\u001b[0m\u001b[1;33m:\u001b[0m \u001b[0mavgtotalbyperson\u001b[0m\u001b[1;33m}\u001b[0m\u001b[1;33m\u001b[0m\u001b[1;33m\u001b[0m\u001b[0m\n\u001b[1;32m----> 9\u001b[1;33m \u001b[0msummary_data2\u001b[0m \u001b[1;33m=\u001b[0m \u001b[0mpd\u001b[0m\u001b[1;33m.\u001b[0m\u001b[0mDataFrame\u001b[0m\u001b[1;33m(\u001b[0m\u001b[0msummary_data2\u001b[0m\u001b[1;33m)\u001b[0m\u001b[1;33m\u001b[0m\u001b[1;33m\u001b[0m\u001b[0m\n\u001b[0m\u001b[0;32m     10\u001b[0m \u001b[1;33m\u001b[0m\u001b[0m\n\u001b[0;32m     11\u001b[0m \u001b[0msummary_data2\u001b[0m\u001b[1;33m.\u001b[0m\u001b[0mindex\u001b[0m\u001b[1;33m.\u001b[0m\u001b[0mname\u001b[0m \u001b[1;33m=\u001b[0m \u001b[1;34m\"Gender\"\u001b[0m\u001b[1;33m\u001b[0m\u001b[1;33m\u001b[0m\u001b[0m\n",
      "\u001b[1;32m~\\anaconda3\\lib\\site-packages\\pandas\\core\\frame.py\u001b[0m in \u001b[0;36m__init__\u001b[1;34m(self, data, index, columns, dtype, copy)\u001b[0m\n\u001b[0;32m    433\u001b[0m             )\n\u001b[0;32m    434\u001b[0m         \u001b[1;32melif\u001b[0m \u001b[0misinstance\u001b[0m\u001b[1;33m(\u001b[0m\u001b[0mdata\u001b[0m\u001b[1;33m,\u001b[0m \u001b[0mdict\u001b[0m\u001b[1;33m)\u001b[0m\u001b[1;33m:\u001b[0m\u001b[1;33m\u001b[0m\u001b[1;33m\u001b[0m\u001b[0m\n\u001b[1;32m--> 435\u001b[1;33m             \u001b[0mmgr\u001b[0m \u001b[1;33m=\u001b[0m \u001b[0minit_dict\u001b[0m\u001b[1;33m(\u001b[0m\u001b[0mdata\u001b[0m\u001b[1;33m,\u001b[0m \u001b[0mindex\u001b[0m\u001b[1;33m,\u001b[0m \u001b[0mcolumns\u001b[0m\u001b[1;33m,\u001b[0m \u001b[0mdtype\u001b[0m\u001b[1;33m=\u001b[0m\u001b[0mdtype\u001b[0m\u001b[1;33m)\u001b[0m\u001b[1;33m\u001b[0m\u001b[1;33m\u001b[0m\u001b[0m\n\u001b[0m\u001b[0;32m    436\u001b[0m         \u001b[1;32melif\u001b[0m \u001b[0misinstance\u001b[0m\u001b[1;33m(\u001b[0m\u001b[0mdata\u001b[0m\u001b[1;33m,\u001b[0m \u001b[0mma\u001b[0m\u001b[1;33m.\u001b[0m\u001b[0mMaskedArray\u001b[0m\u001b[1;33m)\u001b[0m\u001b[1;33m:\u001b[0m\u001b[1;33m\u001b[0m\u001b[1;33m\u001b[0m\u001b[0m\n\u001b[0;32m    437\u001b[0m             \u001b[1;32mimport\u001b[0m \u001b[0mnumpy\u001b[0m\u001b[1;33m.\u001b[0m\u001b[0mma\u001b[0m\u001b[1;33m.\u001b[0m\u001b[0mmrecords\u001b[0m \u001b[1;32mas\u001b[0m \u001b[0mmrecords\u001b[0m\u001b[1;33m\u001b[0m\u001b[1;33m\u001b[0m\u001b[0m\n",
      "\u001b[1;32m~\\anaconda3\\lib\\site-packages\\pandas\\core\\internals\\construction.py\u001b[0m in \u001b[0;36minit_dict\u001b[1;34m(data, index, columns, dtype)\u001b[0m\n\u001b[0;32m    252\u001b[0m             \u001b[0marr\u001b[0m \u001b[1;32mif\u001b[0m \u001b[1;32mnot\u001b[0m \u001b[0mis_datetime64tz_dtype\u001b[0m\u001b[1;33m(\u001b[0m\u001b[0marr\u001b[0m\u001b[1;33m)\u001b[0m \u001b[1;32melse\u001b[0m \u001b[0marr\u001b[0m\u001b[1;33m.\u001b[0m\u001b[0mcopy\u001b[0m\u001b[1;33m(\u001b[0m\u001b[1;33m)\u001b[0m \u001b[1;32mfor\u001b[0m \u001b[0marr\u001b[0m \u001b[1;32min\u001b[0m \u001b[0marrays\u001b[0m\u001b[1;33m\u001b[0m\u001b[1;33m\u001b[0m\u001b[0m\n\u001b[0;32m    253\u001b[0m         ]\n\u001b[1;32m--> 254\u001b[1;33m     \u001b[1;32mreturn\u001b[0m \u001b[0marrays_to_mgr\u001b[0m\u001b[1;33m(\u001b[0m\u001b[0marrays\u001b[0m\u001b[1;33m,\u001b[0m \u001b[0mdata_names\u001b[0m\u001b[1;33m,\u001b[0m \u001b[0mindex\u001b[0m\u001b[1;33m,\u001b[0m \u001b[0mcolumns\u001b[0m\u001b[1;33m,\u001b[0m \u001b[0mdtype\u001b[0m\u001b[1;33m=\u001b[0m\u001b[0mdtype\u001b[0m\u001b[1;33m)\u001b[0m\u001b[1;33m\u001b[0m\u001b[1;33m\u001b[0m\u001b[0m\n\u001b[0m\u001b[0;32m    255\u001b[0m \u001b[1;33m\u001b[0m\u001b[0m\n\u001b[0;32m    256\u001b[0m \u001b[1;33m\u001b[0m\u001b[0m\n",
      "\u001b[1;32m~\\anaconda3\\lib\\site-packages\\pandas\\core\\internals\\construction.py\u001b[0m in \u001b[0;36marrays_to_mgr\u001b[1;34m(arrays, arr_names, index, columns, dtype)\u001b[0m\n\u001b[0;32m     62\u001b[0m     \u001b[1;31m# figure out the index, if necessary\u001b[0m\u001b[1;33m\u001b[0m\u001b[1;33m\u001b[0m\u001b[1;33m\u001b[0m\u001b[0m\n\u001b[0;32m     63\u001b[0m     \u001b[1;32mif\u001b[0m \u001b[0mindex\u001b[0m \u001b[1;32mis\u001b[0m \u001b[1;32mNone\u001b[0m\u001b[1;33m:\u001b[0m\u001b[1;33m\u001b[0m\u001b[1;33m\u001b[0m\u001b[0m\n\u001b[1;32m---> 64\u001b[1;33m         \u001b[0mindex\u001b[0m \u001b[1;33m=\u001b[0m \u001b[0mextract_index\u001b[0m\u001b[1;33m(\u001b[0m\u001b[0marrays\u001b[0m\u001b[1;33m)\u001b[0m\u001b[1;33m\u001b[0m\u001b[1;33m\u001b[0m\u001b[0m\n\u001b[0m\u001b[0;32m     65\u001b[0m     \u001b[1;32melse\u001b[0m\u001b[1;33m:\u001b[0m\u001b[1;33m\u001b[0m\u001b[1;33m\u001b[0m\u001b[0m\n\u001b[0;32m     66\u001b[0m         \u001b[0mindex\u001b[0m \u001b[1;33m=\u001b[0m \u001b[0mensure_index\u001b[0m\u001b[1;33m(\u001b[0m\u001b[0mindex\u001b[0m\u001b[1;33m)\u001b[0m\u001b[1;33m\u001b[0m\u001b[1;33m\u001b[0m\u001b[0m\n",
      "\u001b[1;32m~\\anaconda3\\lib\\site-packages\\pandas\\core\\internals\\construction.py\u001b[0m in \u001b[0;36mextract_index\u001b[1;34m(data)\u001b[0m\n\u001b[0;32m    376\u001b[0m                         \u001b[1;34mf\"length {len(index)}\"\u001b[0m\u001b[1;33m\u001b[0m\u001b[1;33m\u001b[0m\u001b[0m\n\u001b[0;32m    377\u001b[0m                     )\n\u001b[1;32m--> 378\u001b[1;33m                     \u001b[1;32mraise\u001b[0m \u001b[0mValueError\u001b[0m\u001b[1;33m(\u001b[0m\u001b[0mmsg\u001b[0m\u001b[1;33m)\u001b[0m\u001b[1;33m\u001b[0m\u001b[1;33m\u001b[0m\u001b[0m\n\u001b[0m\u001b[0;32m    379\u001b[0m             \u001b[1;32melse\u001b[0m\u001b[1;33m:\u001b[0m\u001b[1;33m\u001b[0m\u001b[1;33m\u001b[0m\u001b[0m\n\u001b[0;32m    380\u001b[0m                 \u001b[0mindex\u001b[0m \u001b[1;33m=\u001b[0m \u001b[0mibase\u001b[0m\u001b[1;33m.\u001b[0m\u001b[0mdefault_index\u001b[0m\u001b[1;33m(\u001b[0m\u001b[0mlengths\u001b[0m\u001b[1;33m[\u001b[0m\u001b[1;36m0\u001b[0m\u001b[1;33m]\u001b[0m\u001b[1;33m)\u001b[0m\u001b[1;33m\u001b[0m\u001b[1;33m\u001b[0m\u001b[0m\n",
      "\u001b[1;31mValueError\u001b[0m: array length 1 does not match index length 3"
     ]
    }
   ],
   "source": [
    "#Run basic calculations to obtain purchase count, avg. purchase price, avg. purchase total per person etc. by gender\n",
    "pcount = df.groupby(\"Gender\")[\"Purchase ID\"].count()\n",
    "avpprice = df.groupby(\"Gender\")[\"Price\"].mean()\n",
    "totalpvalue = df.groupby(\"Gender\")[\"Price\"].sum()\n",
    "avgtotalbyperson = [totalpvalue/count]\n",
    "\n",
    "#Create a summary data frame to hold the results\n",
    "summary_data2 = {'Purchase Count': pcount, 'Average Purchase Price': avpprice, 'Total Purchase Value': totalpvalue,'Average Total Purchase per Person': avgtotalbyperson}\n",
    "summary_data2 = pd.DataFrame(summary_data2)\n",
    "\n",
    "summary_data2.index.name = \"Gender\"\n",
    "summary_data2\n",
    "\n",
    "#Optional: give the displayed data cleaner formatting\n",
    "summary_data2.style.format({\"Average Purchase Price\": \"${:,.2f}\",\"Total Purchase Value\": \"${:,.2f}\",\"Average Total Purchase per Person\": \"${:,.2f}\"})\n",
    "\n",
    "#Display the summary data frame"
   ]
  },
  {
   "cell_type": "code",
   "execution_count": 239,
   "metadata": {},
   "outputs": [
    {
     "data": {
      "text/html": [
       "<style  type=\"text/css\" >\n",
       "</style><table id=\"T_47a4c701_f8ad_11ea_ab51_34f39a2725da\" ><thead>    <tr>        <th class=\"blank level0\" ></th>        <th class=\"col_heading level0 col0\" >Total Count</th>        <th class=\"col_heading level0 col1\" >Percentage of Players</th>    </tr>    <tr>        <th class=\"index_name level0\" >Age Group</th>        <th class=\"blank\" ></th>        <th class=\"blank\" ></th>    </tr></thead><tbody>\n",
       "                <tr>\n",
       "                        <th id=\"T_47a4c701_f8ad_11ea_ab51_34f39a2725dalevel0_row0\" class=\"row_heading level0 row0\" ><10</th>\n",
       "                        <td id=\"T_47a4c701_f8ad_11ea_ab51_34f39a2725darow0_col0\" class=\"data row0 col0\" >17</td>\n",
       "                        <td id=\"T_47a4c701_f8ad_11ea_ab51_34f39a2725darow0_col1\" class=\"data row0 col1\" >2.95%</td>\n",
       "            </tr>\n",
       "            <tr>\n",
       "                        <th id=\"T_47a4c701_f8ad_11ea_ab51_34f39a2725dalevel0_row1\" class=\"row_heading level0 row1\" >10-14</th>\n",
       "                        <td id=\"T_47a4c701_f8ad_11ea_ab51_34f39a2725darow1_col0\" class=\"data row1 col0\" >22</td>\n",
       "                        <td id=\"T_47a4c701_f8ad_11ea_ab51_34f39a2725darow1_col1\" class=\"data row1 col1\" >3.82%</td>\n",
       "            </tr>\n",
       "            <tr>\n",
       "                        <th id=\"T_47a4c701_f8ad_11ea_ab51_34f39a2725dalevel0_row2\" class=\"row_heading level0 row2\" >15-19</th>\n",
       "                        <td id=\"T_47a4c701_f8ad_11ea_ab51_34f39a2725darow2_col0\" class=\"data row2 col0\" >107</td>\n",
       "                        <td id=\"T_47a4c701_f8ad_11ea_ab51_34f39a2725darow2_col1\" class=\"data row2 col1\" >18.58%</td>\n",
       "            </tr>\n",
       "            <tr>\n",
       "                        <th id=\"T_47a4c701_f8ad_11ea_ab51_34f39a2725dalevel0_row3\" class=\"row_heading level0 row3\" >20-24</th>\n",
       "                        <td id=\"T_47a4c701_f8ad_11ea_ab51_34f39a2725darow3_col0\" class=\"data row3 col0\" >258</td>\n",
       "                        <td id=\"T_47a4c701_f8ad_11ea_ab51_34f39a2725darow3_col1\" class=\"data row3 col1\" >44.79%</td>\n",
       "            </tr>\n",
       "            <tr>\n",
       "                        <th id=\"T_47a4c701_f8ad_11ea_ab51_34f39a2725dalevel0_row4\" class=\"row_heading level0 row4\" >25-29</th>\n",
       "                        <td id=\"T_47a4c701_f8ad_11ea_ab51_34f39a2725darow4_col0\" class=\"data row4 col0\" >77</td>\n",
       "                        <td id=\"T_47a4c701_f8ad_11ea_ab51_34f39a2725darow4_col1\" class=\"data row4 col1\" >13.37%</td>\n",
       "            </tr>\n",
       "            <tr>\n",
       "                        <th id=\"T_47a4c701_f8ad_11ea_ab51_34f39a2725dalevel0_row5\" class=\"row_heading level0 row5\" >30-34</th>\n",
       "                        <td id=\"T_47a4c701_f8ad_11ea_ab51_34f39a2725darow5_col0\" class=\"data row5 col0\" >52</td>\n",
       "                        <td id=\"T_47a4c701_f8ad_11ea_ab51_34f39a2725darow5_col1\" class=\"data row5 col1\" >9.03%</td>\n",
       "            </tr>\n",
       "            <tr>\n",
       "                        <th id=\"T_47a4c701_f8ad_11ea_ab51_34f39a2725dalevel0_row6\" class=\"row_heading level0 row6\" >35-39</th>\n",
       "                        <td id=\"T_47a4c701_f8ad_11ea_ab51_34f39a2725darow6_col0\" class=\"data row6 col0\" >31</td>\n",
       "                        <td id=\"T_47a4c701_f8ad_11ea_ab51_34f39a2725darow6_col1\" class=\"data row6 col1\" >5.38%</td>\n",
       "            </tr>\n",
       "            <tr>\n",
       "                        <th id=\"T_47a4c701_f8ad_11ea_ab51_34f39a2725dalevel0_row7\" class=\"row_heading level0 row7\" >40+</th>\n",
       "                        <td id=\"T_47a4c701_f8ad_11ea_ab51_34f39a2725darow7_col0\" class=\"data row7 col0\" >12</td>\n",
       "                        <td id=\"T_47a4c701_f8ad_11ea_ab51_34f39a2725darow7_col1\" class=\"data row7 col1\" >2.08%</td>\n",
       "            </tr>\n",
       "    </tbody></table>"
      ],
      "text/plain": [
       "<pandas.io.formats.style.Styler at 0x20a16e78940>"
      ]
     },
     "execution_count": 239,
     "metadata": {},
     "output_type": "execute_result"
    }
   ],
   "source": [
    "# Establish bins for ages\n",
    "bins = [0, 9, 14, 19, 24, 29, 34, 39, 999]\n",
    "label = [\"<10\", '10-14', '15-19', '20-24', '25-29', '30-34', '35-39', '40+']\n",
    "\n",
    "# Categorize the existing players using the age bins. Hint: use pd.cut()\n",
    "df['Age Group'] = pd.cut(df['Age'], bins, labels=label)\n",
    "agegroup = df.groupby('Age Group')\n",
    "\n",
    "# Calculate the numbers and percentages by age group\n",
    "agecount = agegroup[\"SN\"].nunique()\n",
    "agepercent = (agecount/total_players) * 100\n",
    "\n",
    "# Create a summary data frame to hold the results\n",
    "summary_data3 = {'Total Count': agecount,'Percentage of Players': agepercent}\n",
    "summary_data3 = pd.DataFrame(summary_data3)\n",
    "summary_data3\n",
    "# Optional: round the percentage column to two decimal points\n",
    "summary_data3.style.format({\"Percentage of Players\": \"{:,.2f}%\"})\n",
    "\n",
    "# Display Age Demographics Table\n"
   ]
  },
  {
   "cell_type": "code",
   "execution_count": 251,
   "metadata": {},
   "outputs": [
    {
     "data": {
      "text/html": [
       "<style  type=\"text/css\" >\n",
       "</style><table id=\"T_a0a28b48_f8af_11ea_b46c_34f39a2725da\" ><thead>    <tr>        <th class=\"blank level0\" ></th>        <th class=\"col_heading level0 col0\" >Purchase Count</th>        <th class=\"col_heading level0 col1\" >Average Purchase Price</th>        <th class=\"col_heading level0 col2\" >Total Purchase Value</th>        <th class=\"col_heading level0 col3\" >Average Total Purchase per Person</th>    </tr>    <tr>        <th class=\"index_name level0\" >Age Group</th>        <th class=\"blank\" ></th>        <th class=\"blank\" ></th>        <th class=\"blank\" ></th>        <th class=\"blank\" ></th>    </tr></thead><tbody>\n",
       "                <tr>\n",
       "                        <th id=\"T_a0a28b48_f8af_11ea_b46c_34f39a2725dalevel0_row0\" class=\"row_heading level0 row0\" ><10</th>\n",
       "                        <td id=\"T_a0a28b48_f8af_11ea_b46c_34f39a2725darow0_col0\" class=\"data row0 col0\" >23</td>\n",
       "                        <td id=\"T_a0a28b48_f8af_11ea_b46c_34f39a2725darow0_col1\" class=\"data row0 col1\" >$3.35</td>\n",
       "                        <td id=\"T_a0a28b48_f8af_11ea_b46c_34f39a2725darow0_col2\" class=\"data row0 col2\" >$77.13</td>\n",
       "                        <td id=\"T_a0a28b48_f8af_11ea_b46c_34f39a2725darow0_col3\" class=\"data row0 col3\" >$4.54</td>\n",
       "            </tr>\n",
       "            <tr>\n",
       "                        <th id=\"T_a0a28b48_f8af_11ea_b46c_34f39a2725dalevel0_row1\" class=\"row_heading level0 row1\" >10-14</th>\n",
       "                        <td id=\"T_a0a28b48_f8af_11ea_b46c_34f39a2725darow1_col0\" class=\"data row1 col0\" >28</td>\n",
       "                        <td id=\"T_a0a28b48_f8af_11ea_b46c_34f39a2725darow1_col1\" class=\"data row1 col1\" >$2.96</td>\n",
       "                        <td id=\"T_a0a28b48_f8af_11ea_b46c_34f39a2725darow1_col2\" class=\"data row1 col2\" >$82.78</td>\n",
       "                        <td id=\"T_a0a28b48_f8af_11ea_b46c_34f39a2725darow1_col3\" class=\"data row1 col3\" >$3.76</td>\n",
       "            </tr>\n",
       "            <tr>\n",
       "                        <th id=\"T_a0a28b48_f8af_11ea_b46c_34f39a2725dalevel0_row2\" class=\"row_heading level0 row2\" >15-19</th>\n",
       "                        <td id=\"T_a0a28b48_f8af_11ea_b46c_34f39a2725darow2_col0\" class=\"data row2 col0\" >136</td>\n",
       "                        <td id=\"T_a0a28b48_f8af_11ea_b46c_34f39a2725darow2_col1\" class=\"data row2 col1\" >$3.04</td>\n",
       "                        <td id=\"T_a0a28b48_f8af_11ea_b46c_34f39a2725darow2_col2\" class=\"data row2 col2\" >$412.89</td>\n",
       "                        <td id=\"T_a0a28b48_f8af_11ea_b46c_34f39a2725darow2_col3\" class=\"data row2 col3\" >$3.86</td>\n",
       "            </tr>\n",
       "            <tr>\n",
       "                        <th id=\"T_a0a28b48_f8af_11ea_b46c_34f39a2725dalevel0_row3\" class=\"row_heading level0 row3\" >20-24</th>\n",
       "                        <td id=\"T_a0a28b48_f8af_11ea_b46c_34f39a2725darow3_col0\" class=\"data row3 col0\" >365</td>\n",
       "                        <td id=\"T_a0a28b48_f8af_11ea_b46c_34f39a2725darow3_col1\" class=\"data row3 col1\" >$3.05</td>\n",
       "                        <td id=\"T_a0a28b48_f8af_11ea_b46c_34f39a2725darow3_col2\" class=\"data row3 col2\" >$1,114.06</td>\n",
       "                        <td id=\"T_a0a28b48_f8af_11ea_b46c_34f39a2725darow3_col3\" class=\"data row3 col3\" >$4.32</td>\n",
       "            </tr>\n",
       "            <tr>\n",
       "                        <th id=\"T_a0a28b48_f8af_11ea_b46c_34f39a2725dalevel0_row4\" class=\"row_heading level0 row4\" >25-29</th>\n",
       "                        <td id=\"T_a0a28b48_f8af_11ea_b46c_34f39a2725darow4_col0\" class=\"data row4 col0\" >101</td>\n",
       "                        <td id=\"T_a0a28b48_f8af_11ea_b46c_34f39a2725darow4_col1\" class=\"data row4 col1\" >$2.90</td>\n",
       "                        <td id=\"T_a0a28b48_f8af_11ea_b46c_34f39a2725darow4_col2\" class=\"data row4 col2\" >$293.00</td>\n",
       "                        <td id=\"T_a0a28b48_f8af_11ea_b46c_34f39a2725darow4_col3\" class=\"data row4 col3\" >$3.81</td>\n",
       "            </tr>\n",
       "            <tr>\n",
       "                        <th id=\"T_a0a28b48_f8af_11ea_b46c_34f39a2725dalevel0_row5\" class=\"row_heading level0 row5\" >30-34</th>\n",
       "                        <td id=\"T_a0a28b48_f8af_11ea_b46c_34f39a2725darow5_col0\" class=\"data row5 col0\" >73</td>\n",
       "                        <td id=\"T_a0a28b48_f8af_11ea_b46c_34f39a2725darow5_col1\" class=\"data row5 col1\" >$2.93</td>\n",
       "                        <td id=\"T_a0a28b48_f8af_11ea_b46c_34f39a2725darow5_col2\" class=\"data row5 col2\" >$214.00</td>\n",
       "                        <td id=\"T_a0a28b48_f8af_11ea_b46c_34f39a2725darow5_col3\" class=\"data row5 col3\" >$4.12</td>\n",
       "            </tr>\n",
       "            <tr>\n",
       "                        <th id=\"T_a0a28b48_f8af_11ea_b46c_34f39a2725dalevel0_row6\" class=\"row_heading level0 row6\" >35-39</th>\n",
       "                        <td id=\"T_a0a28b48_f8af_11ea_b46c_34f39a2725darow6_col0\" class=\"data row6 col0\" >41</td>\n",
       "                        <td id=\"T_a0a28b48_f8af_11ea_b46c_34f39a2725darow6_col1\" class=\"data row6 col1\" >$3.60</td>\n",
       "                        <td id=\"T_a0a28b48_f8af_11ea_b46c_34f39a2725darow6_col2\" class=\"data row6 col2\" >$147.67</td>\n",
       "                        <td id=\"T_a0a28b48_f8af_11ea_b46c_34f39a2725darow6_col3\" class=\"data row6 col3\" >$4.76</td>\n",
       "            </tr>\n",
       "            <tr>\n",
       "                        <th id=\"T_a0a28b48_f8af_11ea_b46c_34f39a2725dalevel0_row7\" class=\"row_heading level0 row7\" >40+</th>\n",
       "                        <td id=\"T_a0a28b48_f8af_11ea_b46c_34f39a2725darow7_col0\" class=\"data row7 col0\" >13</td>\n",
       "                        <td id=\"T_a0a28b48_f8af_11ea_b46c_34f39a2725darow7_col1\" class=\"data row7 col1\" >$2.94</td>\n",
       "                        <td id=\"T_a0a28b48_f8af_11ea_b46c_34f39a2725darow7_col2\" class=\"data row7 col2\" >$38.24</td>\n",
       "                        <td id=\"T_a0a28b48_f8af_11ea_b46c_34f39a2725darow7_col3\" class=\"data row7 col3\" >$3.19</td>\n",
       "            </tr>\n",
       "    </tbody></table>"
      ],
      "text/plain": [
       "<pandas.io.formats.style.Styler at 0x20a16fe7790>"
      ]
     },
     "execution_count": 251,
     "metadata": {},
     "output_type": "execute_result"
    }
   ],
   "source": [
    "# # Bin the purchase_data data frame by age\n",
    "# bins = [0, 9, 14, 19, 24, 29, 34, 39, 999]\n",
    "# label = [\"<10\", '10-14', '15-19', '20-24', '25-29', '30-34', '35-39', '40+']\n",
    "\n",
    "# df['Age Ranges'] = pd.cut(df['Age'], bins, labels=label)\n",
    "# ageranges = df.groupby('Age Ranges')\n",
    "\n",
    "# Run basic calculations to obtain purchase count, avg. purchase price, avg. purchase total per person etc. in the table below\n",
    "purchasecount = agegroup[\"Purchase ID\"].count()\n",
    "avpurchaseprice = agegroup[\"Price\"].mean()\n",
    "totalpurchasevalue = agegroup[\"Price\"].sum()\n",
    "avpurchasetotalperperson = totalpurchasevalue/agecount\n",
    "\n",
    "# Create a summary data frame to hold the results\n",
    "summary_data4 = {'Purchase Count': purchasecount,'Average Purchase Price': avpurchaseprice, 'Total Purchase Value': totalpurchasevalue, 'Average Total Purchase per Person': avpurchasetotalperperson}\n",
    "summary_data4 = pd.DataFrame(summary_data4)\n",
    "summary_data4\n",
    "# Optional: give the displayed data cleaner formatting\n",
    "summary_data4.style.format({'Average Purchase Price': '${:,.2f}','Total Purchase Value': '${:,.2f}','Average Total Purchase per Person': '${:,.2f}'})\n",
    "\n",
    "\n",
    "# Display the summary data frame\n"
   ]
  },
  {
   "cell_type": "code",
   "execution_count": null,
   "metadata": {},
   "outputs": [],
   "source": []
  }
 ],
 "metadata": {
  "kernelspec": {
   "display_name": "Python 3",
   "language": "python",
   "name": "python3"
  },
  "language_info": {
   "codemirror_mode": {
    "name": "ipython",
    "version": 3
   },
   "file_extension": ".py",
   "mimetype": "text/x-python",
   "name": "python",
   "nbconvert_exporter": "python",
   "pygments_lexer": "ipython3",
   "version": "3.8.3"
  }
 },
 "nbformat": 4,
 "nbformat_minor": 4
}
