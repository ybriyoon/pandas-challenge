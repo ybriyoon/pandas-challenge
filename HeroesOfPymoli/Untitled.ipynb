{
 "cells": [
  {
   "cell_type": "code",
   "execution_count": 12,
   "metadata": {},
   "outputs": [
    {
     "name": "stdout",
     "output_type": "stream",
     "text": [
      "     Purchase ID             SN  Age  Gender  Item ID  \\\n",
      "0              0        Lisim78   20    Male      108   \n",
      "1              1    Lisovynya38   40    Male      143   \n",
      "2              2     Ithergue48   24    Male       92   \n",
      "3              3  Chamassasya86   24    Male      100   \n",
      "4              4      Iskosia90   23    Male      131   \n",
      "..           ...            ...  ...     ...      ...   \n",
      "775          775     Aethedru70   21  Female       60   \n",
      "776          776         Iral74   21    Male      164   \n",
      "777          777     Yathecal72   20    Male       67   \n",
      "778          778        Sisur91    7    Male       92   \n",
      "779          779      Ennrian78   24    Male       50   \n",
      "\n",
      "                                     Item Name  Price  \n",
      "0    Extraction, Quickblade Of Trembling Hands   3.53  \n",
      "1                            Frenzied Scimitar   1.56  \n",
      "2                                 Final Critic   4.88  \n",
      "3                                  Blindscythe   3.27  \n",
      "4                                         Fury   1.44  \n",
      "..                                         ...    ...  \n",
      "775                                       Wolf   3.54  \n",
      "776                           Exiled Doomblade   1.63  \n",
      "777      Celeste, Incarnation of the Corrupted   3.46  \n",
      "778                               Final Critic   4.19  \n",
      "779                                       Dawn   4.60  \n",
      "\n",
      "[780 rows x 7 columns]\n"
     ]
    }
   ],
   "source": [
    "import pandas as pd\n",
    "\n",
    "filetoload = \"HeroesOfPymoli_Resources_purchase_data.csv\"\n",
    "\n",
    "purchase_data = pd.read_csv(filetoload)\n",
    "\n",
    "print(purchase_data)"
   ]
  },
  {
   "cell_type": "code",
   "execution_count": 15,
   "metadata": {},
   "outputs": [],
   "source": [
    "#Display the total number of players\n",
    "\n",
    "Total = purchase_data['Purchase ID'].nunique()"
   ]
  },
  {
   "cell_type": "code",
   "execution_count": null,
   "metadata": {},
   "outputs": [],
   "source": []
  }
 ],
 "metadata": {
  "kernelspec": {
   "display_name": "Python 3",
   "language": "python",
   "name": "python3"
  },
  "language_info": {
   "codemirror_mode": {
    "name": "ipython",
    "version": 3
   },
   "file_extension": ".py",
   "mimetype": "text/x-python",
   "name": "python",
   "nbconvert_exporter": "python",
   "pygments_lexer": "ipython3",
   "version": "3.8.3"
  }
 },
 "nbformat": 4,
 "nbformat_minor": 4
}
